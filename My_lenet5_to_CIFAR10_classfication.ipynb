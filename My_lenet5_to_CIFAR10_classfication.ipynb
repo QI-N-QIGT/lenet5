{
  "nbformat": 4,
  "nbformat_minor": 0,
  "metadata": {
    "colab": {
      "name": "My lenet5 to CIFAR10 classfication.ipynb",
      "provenance": [],
      "collapsed_sections": [],
      "authorship_tag": "ABX9TyNLGV67hKH83Gx/m3kQVkeQ",
      "include_colab_link": true
    },
    "kernelspec": {
      "name": "python3",
      "display_name": "Python 3"
    },
    "accelerator": "GPU",
    "widgets": {
      "application/vnd.jupyter.widget-state+json": {
        "c67afd65e3b1460591a68b4a86e12e57": {
          "model_module": "@jupyter-widgets/controls",
          "model_name": "HBoxModel",
          "state": {
            "_view_name": "HBoxView",
            "_dom_classes": [],
            "_model_name": "HBoxModel",
            "_view_module": "@jupyter-widgets/controls",
            "_model_module_version": "1.5.0",
            "_view_count": null,
            "_view_module_version": "1.5.0",
            "box_style": "",
            "layout": "IPY_MODEL_b378a8858cac42dd96c3550012726ecc",
            "_model_module": "@jupyter-widgets/controls",
            "children": [
              "IPY_MODEL_2da36b26343a4a88a49a9225544841d6",
              "IPY_MODEL_06e49f9ca12347f8b60f802e4bad9628"
            ]
          }
        },
        "b378a8858cac42dd96c3550012726ecc": {
          "model_module": "@jupyter-widgets/base",
          "model_name": "LayoutModel",
          "state": {
            "_view_name": "LayoutView",
            "grid_template_rows": null,
            "right": null,
            "justify_content": null,
            "_view_module": "@jupyter-widgets/base",
            "overflow": null,
            "_model_module_version": "1.2.0",
            "_view_count": null,
            "flex_flow": null,
            "width": null,
            "min_width": null,
            "border": null,
            "align_items": null,
            "bottom": null,
            "_model_module": "@jupyter-widgets/base",
            "top": null,
            "grid_column": null,
            "overflow_y": null,
            "overflow_x": null,
            "grid_auto_flow": null,
            "grid_area": null,
            "grid_template_columns": null,
            "flex": null,
            "_model_name": "LayoutModel",
            "justify_items": null,
            "grid_row": null,
            "max_height": null,
            "align_content": null,
            "visibility": null,
            "align_self": null,
            "height": null,
            "min_height": null,
            "padding": null,
            "grid_auto_rows": null,
            "grid_gap": null,
            "max_width": null,
            "order": null,
            "_view_module_version": "1.2.0",
            "grid_template_areas": null,
            "object_position": null,
            "object_fit": null,
            "grid_auto_columns": null,
            "margin": null,
            "display": null,
            "left": null
          }
        },
        "2da36b26343a4a88a49a9225544841d6": {
          "model_module": "@jupyter-widgets/controls",
          "model_name": "FloatProgressModel",
          "state": {
            "_view_name": "ProgressView",
            "style": "IPY_MODEL_9c6878b310844478a123049a1a7e7fe0",
            "_dom_classes": [],
            "description": "",
            "_model_name": "FloatProgressModel",
            "bar_style": "info",
            "max": 1,
            "_view_module": "@jupyter-widgets/controls",
            "_model_module_version": "1.5.0",
            "value": 1,
            "_view_count": null,
            "_view_module_version": "1.5.0",
            "orientation": "horizontal",
            "min": 0,
            "description_tooltip": null,
            "_model_module": "@jupyter-widgets/controls",
            "layout": "IPY_MODEL_3a7f17db0b3a42399b30c36c4f2e2022"
          }
        },
        "06e49f9ca12347f8b60f802e4bad9628": {
          "model_module": "@jupyter-widgets/controls",
          "model_name": "HTMLModel",
          "state": {
            "_view_name": "HTMLView",
            "style": "IPY_MODEL_bba53e3ae85a4f58bf821ad02f16e22f",
            "_dom_classes": [],
            "description": "",
            "_model_name": "HTMLModel",
            "placeholder": "​",
            "_view_module": "@jupyter-widgets/controls",
            "_model_module_version": "1.5.0",
            "value": " 170500096/? [00:20&lt;00:00, 82185866.93it/s]",
            "_view_count": null,
            "_view_module_version": "1.5.0",
            "description_tooltip": null,
            "_model_module": "@jupyter-widgets/controls",
            "layout": "IPY_MODEL_4b693fd8f70242549671c8eef89b3821"
          }
        },
        "9c6878b310844478a123049a1a7e7fe0": {
          "model_module": "@jupyter-widgets/controls",
          "model_name": "ProgressStyleModel",
          "state": {
            "_view_name": "StyleView",
            "_model_name": "ProgressStyleModel",
            "description_width": "initial",
            "_view_module": "@jupyter-widgets/base",
            "_model_module_version": "1.5.0",
            "_view_count": null,
            "_view_module_version": "1.2.0",
            "bar_color": null,
            "_model_module": "@jupyter-widgets/controls"
          }
        },
        "3a7f17db0b3a42399b30c36c4f2e2022": {
          "model_module": "@jupyter-widgets/base",
          "model_name": "LayoutModel",
          "state": {
            "_view_name": "LayoutView",
            "grid_template_rows": null,
            "right": null,
            "justify_content": null,
            "_view_module": "@jupyter-widgets/base",
            "overflow": null,
            "_model_module_version": "1.2.0",
            "_view_count": null,
            "flex_flow": null,
            "width": null,
            "min_width": null,
            "border": null,
            "align_items": null,
            "bottom": null,
            "_model_module": "@jupyter-widgets/base",
            "top": null,
            "grid_column": null,
            "overflow_y": null,
            "overflow_x": null,
            "grid_auto_flow": null,
            "grid_area": null,
            "grid_template_columns": null,
            "flex": null,
            "_model_name": "LayoutModel",
            "justify_items": null,
            "grid_row": null,
            "max_height": null,
            "align_content": null,
            "visibility": null,
            "align_self": null,
            "height": null,
            "min_height": null,
            "padding": null,
            "grid_auto_rows": null,
            "grid_gap": null,
            "max_width": null,
            "order": null,
            "_view_module_version": "1.2.0",
            "grid_template_areas": null,
            "object_position": null,
            "object_fit": null,
            "grid_auto_columns": null,
            "margin": null,
            "display": null,
            "left": null
          }
        },
        "bba53e3ae85a4f58bf821ad02f16e22f": {
          "model_module": "@jupyter-widgets/controls",
          "model_name": "DescriptionStyleModel",
          "state": {
            "_view_name": "StyleView",
            "_model_name": "DescriptionStyleModel",
            "description_width": "",
            "_view_module": "@jupyter-widgets/base",
            "_model_module_version": "1.5.0",
            "_view_count": null,
            "_view_module_version": "1.2.0",
            "_model_module": "@jupyter-widgets/controls"
          }
        },
        "4b693fd8f70242549671c8eef89b3821": {
          "model_module": "@jupyter-widgets/base",
          "model_name": "LayoutModel",
          "state": {
            "_view_name": "LayoutView",
            "grid_template_rows": null,
            "right": null,
            "justify_content": null,
            "_view_module": "@jupyter-widgets/base",
            "overflow": null,
            "_model_module_version": "1.2.0",
            "_view_count": null,
            "flex_flow": null,
            "width": null,
            "min_width": null,
            "border": null,
            "align_items": null,
            "bottom": null,
            "_model_module": "@jupyter-widgets/base",
            "top": null,
            "grid_column": null,
            "overflow_y": null,
            "overflow_x": null,
            "grid_auto_flow": null,
            "grid_area": null,
            "grid_template_columns": null,
            "flex": null,
            "_model_name": "LayoutModel",
            "justify_items": null,
            "grid_row": null,
            "max_height": null,
            "align_content": null,
            "visibility": null,
            "align_self": null,
            "height": null,
            "min_height": null,
            "padding": null,
            "grid_auto_rows": null,
            "grid_gap": null,
            "max_width": null,
            "order": null,
            "_view_module_version": "1.2.0",
            "grid_template_areas": null,
            "object_position": null,
            "object_fit": null,
            "grid_auto_columns": null,
            "margin": null,
            "display": null,
            "left": null
          }
        }
      }
    }
  },
  "cells": [
    {
      "cell_type": "markdown",
      "metadata": {
        "id": "view-in-github",
        "colab_type": "text"
      },
      "source": [
        "<a href=\"https://colab.research.google.com/github/QI-N-QIGT/lenet5/blob/master/My_lenet5_to_CIFAR10_classfication.ipynb\" target=\"_parent\"><img src=\"https://colab.research.google.com/assets/colab-badge.svg\" alt=\"Open In Colab\"/></a>"
      ]
    },
    {
      "cell_type": "markdown",
      "metadata": {
        "id": "Y4kHND5-Hxfa"
      },
      "source": [
        "### Install some necessary libraries."
      ]
    },
    {
      "cell_type": "code",
      "metadata": {
        "id": "rWo-2STIH7uZ"
      },
      "source": [
        "pip install hiddenlayer  # a kind of visualable tool"
      ],
      "execution_count": null,
      "outputs": []
    },
    {
      "cell_type": "markdown",
      "metadata": {
        "id": "S17ioheKkEiX"
      },
      "source": [
        "### The first part is to download the cifar10 dataset and process it. We can download it from torchvision."
      ]
    },
    {
      "cell_type": "code",
      "metadata": {
        "id": "HdtD-r-1kDNf"
      },
      "source": [
        "import torch\r\n",
        "import torchvision\r\n",
        "import torchvision.transforms as transforms"
      ],
      "execution_count": null,
      "outputs": []
    },
    {
      "cell_type": "code",
      "metadata": {
        "colab": {
          "base_uri": "https://localhost:8080/"
        },
        "id": "53TIWU14osHx",
        "outputId": "a63b7059-af61-4dfe-88db-8b6c70e6d662"
      },
      "source": [
        "device = torch.device(\"cuda:0\" if torch.cuda.is_available() else \"cpu\")\r\n",
        "# detect whether the GPU is existed.\r\n",
        "print(device)"
      ],
      "execution_count": null,
      "outputs": [
        {
          "output_type": "stream",
          "text": [
            "cuda:0\n"
          ],
          "name": "stdout"
        }
      ]
    },
    {
      "cell_type": "code",
      "metadata": {
        "id": "-BXKuq4UvDmo"
      },
      "source": [
        "import numpy as np\r\n",
        "# load data\r\n",
        "from torchvision import datasets\r\n",
        "# load the training data"
      ],
      "execution_count": null,
      "outputs": []
    },
    {
      "cell_type": "markdown",
      "metadata": {
        "id": "jh7_1yl8zJsk"
      },
      "source": [
        "### Calculate the mean and std of CIFAR10"
      ]
    },
    {
      "cell_type": "code",
      "metadata": {
        "colab": {
          "base_uri": "https://localhost:8080/"
        },
        "id": "PYKawhvbvV3j",
        "outputId": "96c26d88-2efd-4145-99f4-2edb9583a16d"
      },
      "source": [
        "train_data = datasets.CIFAR10('./cifar10_data', train=True, download=True)\r\n",
        "test_data = datasets.CIFAR10('./cifar10_data_test', train=False, download=True)\r\n",
        "print(f\"lenght of test_data is: {len(test_data)}\")\r\n",
        "print(f\"lenght of train_data is: {len(train_data)}\")\r\n",
        "print(np.asarray(train_data[1][0]).shape)\r\n",
        "\r\n",
        "# use np.concatenate to stick all the images together to form a 1600000(50000*32) X 32 X 3 array\r\n",
        "x = np.concatenate([np.asarray(train_data[i][0]) for i in range(len(train_data))])\r\n",
        "# print(x)\r\n",
        "print(x.shape)\r\n",
        "# calculate the mean and std along the (0, 1) axes\r\n",
        "train_mean = np.mean(x, axis=(0, 1)) / 255\r\n",
        "train_std = np.std(x, axis=(0, 1)) /255\r\n",
        "# the the mean and std\r\n",
        "print(train_mean, train_std)"
      ],
      "execution_count": null,
      "outputs": [
        {
          "output_type": "stream",
          "text": [
            "(1600000, 32, 3)\n",
            "[0.49139968 0.48215841 0.44653091] [0.24703223 0.24348513 0.26158784]\n"
          ],
          "name": "stdout"
        }
      ]
    },
    {
      "cell_type": "markdown",
      "metadata": {
        "id": "DBq_hyqz4UUm"
      },
      "source": [
        "### Preprocess the data\r\n",
        "1. Converts a PIL.Image or numpy.ndarray (H x W x C) in the range [0, 255] to a torch.FloatTensor of shape (C x H x W) in the range [0.0, 1.0].\r\n",
        "2. tansforms.Normalize is to set the distribution into stand normal one\r\n",
        "3. transform.Compose is to compose the several tranform operations."
      ]
    },
    {
      "cell_type": "code",
      "metadata": {
        "colab": {
          "base_uri": "https://localhost:8080/",
          "height": 102,
          "referenced_widgets": [
            "c67afd65e3b1460591a68b4a86e12e57",
            "b378a8858cac42dd96c3550012726ecc",
            "2da36b26343a4a88a49a9225544841d6",
            "06e49f9ca12347f8b60f802e4bad9628",
            "9c6878b310844478a123049a1a7e7fe0",
            "3a7f17db0b3a42399b30c36c4f2e2022",
            "bba53e3ae85a4f58bf821ad02f16e22f",
            "4b693fd8f70242549671c8eef89b3821"
          ]
        },
        "id": "fK0Be3TnoCUE",
        "outputId": "928ea6bf-27dd-46b1-9935-8b782c396c49"
      },
      "source": [
        "transform = transforms.Compose([transforms.ToTensor(), transforms.Normalize([0.491, 0.482, 0.447], [0.247, 0.243, 0.262])])\r\n",
        "dataset_cifar10_train = torchvision.datasets.CIFAR10(root=\"./cifa10_data\", train = True, transform = transform, download = True)\r\n",
        "dataset_cifar10_test = torchvision.datasets.CIFAR10(root=\"./cifa10_data\", train = False, transform = transform, download = True)\r\n",
        "class_10_name = ('plane', 'car', 'bird', 'cat', 'deer', 'dog', 'frog', 'horse', 'ship', 'truck')"
      ],
      "execution_count": null,
      "outputs": [
        {
          "output_type": "stream",
          "text": [
            "Downloading https://www.cs.toronto.edu/~kriz/cifar-10-python.tar.gz to ./cifa10_data/cifar-10-python.tar.gz\n"
          ],
          "name": "stdout"
        },
        {
          "output_type": "display_data",
          "data": {
            "application/vnd.jupyter.widget-view+json": {
              "model_id": "c67afd65e3b1460591a68b4a86e12e57",
              "version_minor": 0,
              "version_major": 2
            },
            "text/plain": [
              "HBox(children=(FloatProgress(value=1.0, bar_style='info', max=1.0), HTML(value='')))"
            ]
          },
          "metadata": {
            "tags": []
          }
        },
        {
          "output_type": "stream",
          "text": [
            "Extracting ./cifa10_data/cifar-10-python.tar.gz to ./cifa10_data\n",
            "Files already downloaded and verified\n"
          ],
          "name": "stdout"
        }
      ]
    },
    {
      "cell_type": "markdown",
      "metadata": {
        "id": "e_7pF57X7Owt"
      },
      "source": [
        "### We just need prepare the data for training using DataLoaders"
      ]
    },
    {
      "cell_type": "code",
      "metadata": {
        "id": "I1w-Rb4wq4gi"
      },
      "source": [
        "from torch.utils.data import DataLoader\r\n",
        "batch_size = 50\r\n",
        "\r\n",
        "train_dataloader = DataLoader(dataset_cifar10_train, batch_size=batch_size, shuffle=True)\r\n",
        "test_dataloader = DataLoader(dataset_cifar10_test, batch_size=batch_size, shuffle=True)"
      ],
      "execution_count": null,
      "outputs": []
    },
    {
      "cell_type": "markdown",
      "metadata": {
        "id": "j0Kag8skXpmX"
      },
      "source": [
        "### Display the figures to check"
      ]
    },
    {
      "cell_type": "code",
      "metadata": {
        "colab": {
          "base_uri": "https://localhost:8080/",
          "height": 355
        },
        "id": "10sPrfiV-4cg",
        "outputId": "9ae17ac5-0512-4fc0-cc28-868e86a8bf13"
      },
      "source": [
        "%matplotlib inline\r\n",
        "import matplotlib.pyplot as plt\r\n",
        "\r\n",
        "# Display image and label.\r\n",
        "train_features, train_labels = next(iter(train_dataloader))\r\n",
        "print(f\"Feature batch shape: {train_features.size()}\")\r\n",
        "print(f\"Labels batch shape: {train_labels.size()}\")\r\n",
        "img = train_features[0].squeeze()\r\n",
        "img = torch.transpose(img, 0, 1)\r\n",
        "img = torch.transpose(img, 1, 2)\r\n",
        "print(img.shape)\r\n",
        "torch.transpose(img,1,2)\r\n",
        "label = train_labels[0]\r\n",
        "plt.imshow(img)\r\n",
        "print(f\"Label: {class_10_name[label]}\")"
      ],
      "execution_count": null,
      "outputs": [
        {
          "output_type": "stream",
          "text": [
            "Clipping input data to the valid range for imshow with RGB data ([0..1] for floats or [0..255] for integers).\n"
          ],
          "name": "stderr"
        },
        {
          "output_type": "stream",
          "text": [
            "Feature batch shape: torch.Size([50, 3, 32, 32])\n",
            "Labels batch shape: torch.Size([50])\n",
            "torch.Size([32, 32, 3])\n",
            "Label: car\n"
          ],
          "name": "stdout"
        },
        {
          "output_type": "display_data",
          "data": {
            "image/png": "[encoded data removed]",
            "text/plain": [
              "<Figure size 432x288 with 1 Axes>"
            ]
          },
          "metadata": {
            "tags": [],
            "needs_background": "light"
          }
        }
      ]
    },
    {
      "cell_type": "markdown",
      "metadata": {
        "id": "YIemI2J3DmUE"
      },
      "source": [
        "### I think I have prepared the train data well, and then I will build the NN structure."
      ]
    },
    {
      "cell_type": "code",
      "metadata": {
        "id": "QEhvFzMHDjyf"
      },
      "source": [
        "import torch.nn as nn\r\n",
        "import torch.nn.functional as F"
      ],
      "execution_count": null,
      "outputs": []
    },
    {
      "cell_type": "code",
      "metadata": {
        "id": "0N0tmvGPESqm"
      },
      "source": [
        "# we use the classical CNN that is lenet-5\r\n",
        "\r\n",
        "class Net(nn.Module):\r\n",
        "    def __init__(self):\r\n",
        "      super(Net, self).__init__()\r\n",
        "      self.conv1 = nn.Conv2d(3, 6, 5)\r\n",
        "      self.maxpool2 = nn.MaxPool2d(2,2)\r\n",
        "      self.conv3 = nn.Conv2d(6,16,5)\r\n",
        "      self.maxpool4 = nn.MaxPool2d(2,2)\r\n",
        "      self.dense5 = nn.Linear(16*5*5,120) # self.conv5 = nn.Linear(16,120,5) is OK. \r\n",
        "      self.dense6 = nn.Linear(120,84)\r\n",
        "      self.dense7 = nn.Linear(84,10)\r\n",
        "\r\n",
        "    def forward(self, x):\r\n",
        "      x = F.relu(self.conv1(x))\r\n",
        "      x = self.maxpool2(x)\r\n",
        "      x = F.relu(self.conv3(x))\r\n",
        "      x = self.maxpool4(x)        # the dimmentions of x is [batch_size, 16, 5, 5]\r\n",
        "      x = x.view(-1, 16*5*5)      # this command is used to compose the conv layer and linear layer,and the second aixs num is 16*5*5\r\n",
        "      x = F.relu(self.dense5(x))  # the dimmentions of x is [16*5*5,120]\r\n",
        "      x = F.relu(self.dense6(x))\r\n",
        "      x = self.dense7(x)\r\n",
        "      return x"
      ],
      "execution_count": null,
      "outputs": []
    },
    {
      "cell_type": "markdown",
      "metadata": {
        "id": "hmFAXULhjflE"
      },
      "source": [
        "### OK, I think I have bulit the lenet5 structure. Then I will begain train the neural network."
      ]
    },
    {
      "cell_type": "code",
      "metadata": {
        "id": "9uZComJCj3fi"
      },
      "source": [
        "lenet5_net = Net()\r\n",
        "lenet5_net = lenet5_net.to(device)\r\n",
        "print(lenet5_net)\r\n",
        "# we have to define the loss function and optimization\r\n",
        "loss_fun = nn.CrossEntropyLoss()\r\n",
        "opt = torch.optim.SGD(lenet5_net.parameters(), lr = 0.001, momentum = 0.9)"
      ],
      "execution_count": null,
      "outputs": []
    },
    {
      "cell_type": "markdown",
      "metadata": {
        "id": "R19_f7rt6NU2"
      },
      "source": [
        "### This is a more complete function with loss and accuracy output "
      ]
    },
    {
      "cell_type": "code",
      "metadata": {
        "id": "UoGFp6HBYOhA"
      },
      "source": [
        "import time\r\n",
        "import hiddenlayer as hl\r\n",
        "\r\n",
        "# I am trying to add the calculation of accuracy into the code\r\n",
        "def train_process(model, epoch, loss_fun, optimizer, train_dataloader,test_dataloader):\r\n",
        "  best_acc = 0.0\r\n",
        "\r\n",
        "  for i in range(epoch):\r\n",
        "\r\n",
        "    print('Epoch {}/{}'.format(i+1, epoch))\r\n",
        "    print(\"*\" * 30)\r\n",
        "    # there are two phases in train processes\r\n",
        "    for modes in [\"train\",\"val\"]:\r\n",
        "      running_loss = 0\r\n",
        "      temp_loss = 0\r\n",
        "      temp_correction = 0\r\n",
        "      running_correction = 0\r\n",
        "      if modes is \"train\":\r\n",
        "        model.train() \r\n",
        "        for index, input_data in enumerate(train_dataloader, 0):\r\n",
        "          # get the images and speed up by cuda\r\n",
        "          imgs, labels = input_data\r\n",
        "          imgs, labels = imgs.to(device), labels.to(device)\r\n",
        "          # set the gradients all to zero\r\n",
        "          opt.zero_grad() \r\n",
        "\r\n",
        "          with torch.set_grad_enabled(modes == \"train\"):\r\n",
        "            # forwar & backward & optimization\r\n",
        "            outputs = model(imgs)\r\n",
        "            loss = loss_fun(outputs, labels)\r\n",
        "            loss.backward()\r\n",
        "            opt.step()\r\n",
        "          running_loss += loss.item()  # transfer a tensor with one element to a number\r\n",
        "          temp_loss += loss.item()\r\n",
        "          running_correction += (torch.max(outputs,1).indices == labels).sum().item()\r\n",
        "          temp_correction += (torch.max(outputs,1).indices == labels).sum().item()\r\n",
        "          epoch_loss = running_loss / len(train_dataloader)\r\n",
        "          epoch_acc = float(running_correction) / len(dataset_cifar10_train)\r\n",
        "          if (index+1) % 250 == 0:\r\n",
        "            print('[%d, %5d] train loss: %.3f' % (i + 1, index + 1, temp_loss / 250))\r\n",
        "            print('[%d, %5d] train acc: %.3f' % (i + 1, index + 1, temp_correction / (250*batch_size)))\r\n",
        "            temp_loss = 0\r\n",
        "            temp_correction = 0\r\n",
        "          # print(f\"{modes} Loss: {epoch_loss}, acc: {epoch_acc}\")\r\n",
        "\r\n",
        "      elif modes is \"val\":\r\n",
        "        model.eval()\r\n",
        "        for index, test_data in enumerate(test_dataloader, 0):\r\n",
        "          # get the images and speed up by cuda\r\n",
        "          imgs, labels = test_data\r\n",
        "          imgs, labels = imgs.to(device), labels.to(device) \r\n",
        "          # set the gradients all to zero\r\n",
        "          opt.zero_grad() \r\n",
        "          with torch.set_grad_enabled(modes == \"train\"):\r\n",
        "            # forward \r\n",
        "            outputs = model(imgs)\r\n",
        "            loss = loss_fun(outputs, labels)\r\n",
        "          running_loss += loss.item()  # transfer a tensor with one element to a number\r\n",
        "          temp_loss += loss.item()  # transfer a tensor with one element to a number\r\n",
        "          running_correction += (torch.max(outputs,1).indices == labels).sum().item()\r\n",
        "          temp_correction += (torch.max(outputs,1).indices == labels).sum().item()\r\n",
        "          epoch_loss = running_loss / len(test_dataloader)\r\n",
        "          epoch_acc = float(running_correction) / len(dataset_cifar10_test)\r\n",
        "          if (index+1) % 50 == 0:\r\n",
        "            print('[%d, %5d] train loss: %.3f' % (i + 1, index + 1, temp_loss / 50))\r\n",
        "            print('[%d, %5d] train acc: %.3f' % (i + 1, index + 1, temp_correction / (50*batch_size)))\r\n",
        "            temp_loss = 0\r\n",
        "            temp_correction = 0\r\n",
        "\r\n",
        "          #print(f\"{modes} Loss: {epoch_loss}, acc: {epoch_acc}\")\r\n",
        "          if epoch_acc > best_acc:\r\n",
        "            best_acc = epoch_acc\r\n",
        "\r\n",
        "\r\n",
        "      if modes is \"train\":\r\n",
        "        print(f\"{modes} Loss: {epoch_loss}, acc: {epoch_acc}\")\r\n",
        "      elif modes is \"val\":\r\n",
        "        print(f\"{modes} Loss: {epoch_loss}, acc: {epoch_acc}\")\r\n",
        "\r\n",
        "    print(\"*\"*30)\r\n",
        "\r\n",
        "  print(f\"best_acc is {best_acc}\")          \r\n",
        "  print(\"trainning finished\")"
      ],
      "execution_count": null,
      "outputs": []
    },
    {
      "cell_type": "code",
      "metadata": {
        "colab": {
          "base_uri": "https://localhost:8080/"
        },
        "id": "XzdgcI8CtBqp",
        "outputId": "5394ce0a-007a-4c29-c4c7-d58794afd9cf"
      },
      "source": [
        "train_process(model = lenet5_net, epoch=20, loss_fun=loss_fun, optimizer = opt, train_dataloader = train_dataloader,test_dataloader=test_dataloader)"
      ],
      "execution_count": null,
      "outputs": [
        {
          "output_type": "stream",
          "text": [
            "Epoch 1/20\n",
            "******************************\n",
            "[1,   250] train loss: 0.375\n",
            "[1,   250] train acc: 0.866\n",
            "[1,   500] train loss: 0.395\n",
            "[1,   500] train acc: 0.857\n",
            "[1,   750] train loss: 0.424\n",
            "[1,   750] train acc: 0.844\n",
            "[1,  1000] train loss: 0.428\n",
            "[1,  1000] train acc: 0.848\n",
            "train Loss: 0.405366850450635, acc: 0.8538\n",
            "[1,    50] train loss: 1.506\n",
            "[1,    50] train acc: 0.636\n",
            "[1,   100] train loss: 1.500\n",
            "[1,   100] train acc: 0.634\n",
            "[1,   150] train loss: 1.526\n",
            "[1,   150] train acc: 0.608\n",
            "[1,   200] train loss: 1.490\n",
            "[1,   200] train acc: 0.634\n",
            "val Loss: 1.5053382363915444, acc: 0.6277\n",
            "******************************\n",
            "Epoch 2/20\n",
            "******************************\n",
            "[2,   250] train loss: 0.355\n",
            "[2,   250] train acc: 0.876\n",
            "[2,   500] train loss: 0.386\n",
            "[2,   500] train acc: 0.864\n",
            "[2,   750] train loss: 0.416\n",
            "[2,   750] train acc: 0.851\n",
            "[2,  1000] train loss: 0.423\n",
            "[2,  1000] train acc: 0.848\n",
            "train Loss: 0.3948166609406471, acc: 0.85958\n",
            "[2,    50] train loss: 1.460\n",
            "[2,    50] train acc: 0.637\n",
            "[2,   100] train loss: 1.529\n",
            "[2,   100] train acc: 0.629\n",
            "[2,   150] train loss: 1.553\n",
            "[2,   150] train acc: 0.623\n",
            "[2,   200] train loss: 1.470\n",
            "[2,   200] train acc: 0.647\n",
            "val Loss: 1.5030077674984932, acc: 0.6339\n",
            "******************************\n",
            "Epoch 3/20\n",
            "******************************\n",
            "[3,   250] train loss: 0.369\n",
            "[3,   250] train acc: 0.869\n",
            "[3,   500] train loss: 0.370\n",
            "[3,   500] train acc: 0.869\n",
            "[3,   750] train loss: 0.398\n",
            "[3,   750] train acc: 0.857\n",
            "[3,  1000] train loss: 0.393\n",
            "[3,  1000] train acc: 0.857\n",
            "train Loss: 0.3827077387645841, acc: 0.86326\n",
            "[3,    50] train loss: 1.578\n",
            "[3,    50] train acc: 0.622\n",
            "[3,   100] train loss: 1.597\n",
            "[3,   100] train acc: 0.626\n",
            "[3,   150] train loss: 1.525\n",
            "[3,   150] train acc: 0.630\n",
            "[3,   200] train loss: 1.501\n",
            "[3,   200] train acc: 0.640\n",
            "val Loss: 1.5500822228193283, acc: 0.6294\n",
            "******************************\n",
            "Epoch 4/20\n",
            "******************************\n",
            "[4,   250] train loss: 0.345\n",
            "[4,   250] train acc: 0.881\n",
            "[4,   500] train loss: 0.357\n",
            "[4,   500] train acc: 0.873\n",
            "[4,   750] train loss: 0.389\n",
            "[4,   750] train acc: 0.862\n",
            "[4,  1000] train loss: 0.415\n",
            "[4,  1000] train acc: 0.849\n",
            "train Loss: 0.3764254232272506, acc: 0.8662\n",
            "[4,    50] train loss: 1.573\n",
            "[4,    50] train acc: 0.611\n",
            "[4,   100] train loss: 1.463\n",
            "[4,   100] train acc: 0.634\n",
            "[4,   150] train loss: 1.552\n",
            "[4,   150] train acc: 0.627\n",
            "[4,   200] train loss: 1.569\n",
            "[4,   200] train acc: 0.622\n",
            "val Loss: 1.5393669274449349, acc: 0.6236\n",
            "******************************\n",
            "Epoch 5/20\n",
            "******************************\n",
            "[5,   250] train loss: 0.324\n",
            "[5,   250] train acc: 0.885\n",
            "[5,   500] train loss: 0.356\n",
            "[5,   500] train acc: 0.875\n",
            "[5,   750] train loss: 0.379\n",
            "[5,   750] train acc: 0.864\n",
            "[5,  1000] train loss: 0.395\n",
            "[5,  1000] train acc: 0.859\n",
            "train Loss: 0.3635612823739648, acc: 0.8707\n",
            "[5,    50] train loss: 1.547\n",
            "[5,    50] train acc: 0.634\n",
            "[5,   100] train loss: 1.529\n",
            "[5,   100] train acc: 0.627\n",
            "[5,   150] train loss: 1.624\n",
            "[5,   150] train acc: 0.625\n",
            "[5,   200] train loss: 1.630\n",
            "[5,   200] train acc: 0.618\n",
            "val Loss: 1.5822952517867088, acc: 0.6259\n",
            "******************************\n",
            "Epoch 6/20\n",
            "******************************\n",
            "[6,   250] train loss: 0.335\n",
            "[6,   250] train acc: 0.885\n",
            "[6,   500] train loss: 0.353\n",
            "[6,   500] train acc: 0.874\n",
            "[6,   750] train loss: 0.356\n",
            "[6,   750] train acc: 0.873\n",
            "[6,  1000] train loss: 0.384\n",
            "[6,  1000] train acc: 0.863\n",
            "train Loss: 0.35689899254590274, acc: 0.87376\n",
            "[6,    50] train loss: 1.703\n",
            "[6,    50] train acc: 0.624\n",
            "[6,   100] train loss: 1.621\n",
            "[6,   100] train acc: 0.623\n",
            "[6,   150] train loss: 1.694\n",
            "[6,   150] train acc: 0.603\n",
            "[6,   200] train loss: 1.622\n",
            "[6,   200] train acc: 0.636\n",
            "val Loss: 1.6601180946826934, acc: 0.6215\n",
            "******************************\n",
            "Epoch 7/20\n",
            "******************************\n",
            "[7,   250] train loss: 0.302\n",
            "[7,   250] train acc: 0.892\n",
            "[7,   500] train loss: 0.343\n",
            "[7,   500] train acc: 0.877\n",
            "[7,   750] train loss: 0.371\n",
            "[7,   750] train acc: 0.868\n",
            "[7,  1000] train loss: 0.370\n",
            "[7,  1000] train acc: 0.867\n",
            "train Loss: 0.34651728252321484, acc: 0.87592\n",
            "[7,    50] train loss: 1.674\n",
            "[7,    50] train acc: 0.627\n",
            "[7,   100] train loss: 1.682\n",
            "[7,   100] train acc: 0.621\n",
            "[7,   150] train loss: 1.686\n",
            "[7,   150] train acc: 0.614\n",
            "[7,   200] train loss: 1.591\n",
            "[7,   200] train acc: 0.628\n",
            "val Loss: 1.6581100377440452, acc: 0.6226\n",
            "******************************\n",
            "Epoch 8/20\n",
            "******************************\n",
            "[8,   250] train loss: 0.312\n",
            "[8,   250] train acc: 0.890\n",
            "[8,   500] train loss: 0.352\n",
            "[8,   500] train acc: 0.874\n",
            "[8,   750] train loss: 0.349\n",
            "[8,   750] train acc: 0.873\n",
            "[8,  1000] train loss: 0.377\n",
            "[8,  1000] train acc: 0.863\n",
            "train Loss: 0.347344906643033, acc: 0.87488\n",
            "[8,    50] train loss: 1.756\n",
            "[8,    50] train acc: 0.618\n",
            "[8,   100] train loss: 1.661\n",
            "[8,   100] train acc: 0.631\n",
            "[8,   150] train loss: 1.727\n",
            "[8,   150] train acc: 0.605\n",
            "[8,   200] train loss: 1.759\n",
            "[8,   200] train acc: 0.612\n",
            "val Loss: 1.7254538002610207, acc: 0.6166\n",
            "******************************\n",
            "Epoch 9/20\n",
            "******************************\n",
            "[9,   250] train loss: 0.299\n",
            "[9,   250] train acc: 0.895\n",
            "[9,   500] train loss: 0.324\n",
            "[9,   500] train acc: 0.883\n",
            "[9,   750] train loss: 0.347\n",
            "[9,   750] train acc: 0.877\n",
            "[9,  1000] train loss: 0.364\n",
            "[9,  1000] train acc: 0.867\n",
            "train Loss: 0.3334229108989239, acc: 0.88046\n",
            "[9,    50] train loss: 1.760\n",
            "[9,    50] train acc: 0.629\n",
            "[9,   100] train loss: 1.713\n",
            "[9,   100] train acc: 0.626\n",
            "[9,   150] train loss: 1.801\n",
            "[9,   150] train acc: 0.606\n",
            "[9,   200] train loss: 1.753\n",
            "[9,   200] train acc: 0.620\n",
            "val Loss: 1.7568468609452248, acc: 0.6204\n",
            "******************************\n",
            "Epoch 10/20\n",
            "******************************\n",
            "[10,   250] train loss: 0.301\n",
            "[10,   250] train acc: 0.896\n",
            "[10,   500] train loss: 0.318\n",
            "[10,   500] train acc: 0.886\n",
            "[10,   750] train loss: 0.339\n",
            "[10,   750] train acc: 0.879\n",
            "[10,  1000] train loss: 0.346\n",
            "[10,  1000] train acc: 0.872\n",
            "train Loss: 0.3260144548639655, acc: 0.88334\n",
            "[10,    50] train loss: 1.800\n",
            "[10,    50] train acc: 0.612\n",
            "[10,   100] train loss: 1.714\n",
            "[10,   100] train acc: 0.630\n",
            "[10,   150] train loss: 1.764\n",
            "[10,   150] train acc: 0.627\n",
            "[10,   200] train loss: 1.674\n",
            "[10,   200] train acc: 0.628\n",
            "val Loss: 1.7379126399755478, acc: 0.6241\n",
            "******************************\n",
            "Epoch 11/20\n",
            "******************************\n",
            "[11,   250] train loss: 0.292\n",
            "[11,   250] train acc: 0.896\n",
            "[11,   500] train loss: 0.306\n",
            "[11,   500] train acc: 0.890\n",
            "[11,   750] train loss: 0.317\n",
            "[11,   750] train acc: 0.889\n",
            "[11,  1000] train loss: 0.349\n",
            "[11,  1000] train acc: 0.872\n",
            "train Loss: 0.316283470928669, acc: 0.88642\n",
            "[11,    50] train loss: 1.793\n",
            "[11,    50] train acc: 0.618\n",
            "[11,   100] train loss: 1.775\n",
            "[11,   100] train acc: 0.619\n",
            "[11,   150] train loss: 1.793\n",
            "[11,   150] train acc: 0.618\n",
            "[11,   200] train loss: 1.798\n",
            "[11,   200] train acc: 0.611\n",
            "val Loss: 1.7898191753029824, acc: 0.6163\n",
            "******************************\n",
            "Epoch 12/20\n",
            "******************************\n",
            "[12,   250] train loss: 0.273\n",
            "[12,   250] train acc: 0.906\n",
            "[12,   500] train loss: 0.311\n",
            "[12,   500] train acc: 0.888\n",
            "[12,   750] train loss: 0.319\n",
            "[12,   750] train acc: 0.884\n",
            "[12,  1000] train loss: 0.335\n",
            "[12,  1000] train acc: 0.878\n",
            "train Loss: 0.309541654676199, acc: 0.8891\n",
            "[12,    50] train loss: 1.853\n",
            "[12,    50] train acc: 0.611\n",
            "[12,   100] train loss: 1.829\n",
            "[12,   100] train acc: 0.619\n",
            "[12,   150] train loss: 1.947\n",
            "[12,   150] train acc: 0.614\n",
            "[12,   200] train loss: 1.936\n",
            "[12,   200] train acc: 0.614\n",
            "val Loss: 1.8912799811363221, acc: 0.6145\n",
            "******************************\n",
            "Epoch 13/20\n",
            "******************************\n",
            "[13,   250] train loss: 0.262\n",
            "[13,   250] train acc: 0.908\n",
            "[13,   500] train loss: 0.285\n",
            "[13,   500] train acc: 0.900\n",
            "[13,   750] train loss: 0.335\n",
            "[13,   750] train acc: 0.877\n",
            "[13,  1000] train loss: 0.334\n",
            "[13,  1000] train acc: 0.877\n",
            "train Loss: 0.30393104305863383, acc: 0.89062\n",
            "[13,    50] train loss: 1.789\n",
            "[13,    50] train acc: 0.624\n",
            "[13,   100] train loss: 1.867\n",
            "[13,   100] train acc: 0.620\n",
            "[13,   150] train loss: 1.791\n",
            "[13,   150] train acc: 0.618\n",
            "[13,   200] train loss: 1.823\n",
            "[13,   200] train acc: 0.623\n",
            "val Loss: 1.817370181083679, acc: 0.6212\n",
            "******************************\n",
            "Epoch 14/20\n",
            "******************************\n",
            "[14,   250] train loss: 0.253\n",
            "[14,   250] train acc: 0.911\n",
            "[14,   500] train loss: 0.283\n",
            "[14,   500] train acc: 0.900\n",
            "[14,   750] train loss: 0.312\n",
            "[14,   750] train acc: 0.888\n",
            "[14,  1000] train loss: 0.328\n",
            "[14,  1000] train acc: 0.880\n",
            "train Loss: 0.2937837238535285, acc: 0.89474\n",
            "[14,    50] train loss: 1.968\n",
            "[14,    50] train acc: 0.619\n",
            "[14,   100] train loss: 1.904\n",
            "[14,   100] train acc: 0.627\n",
            "[14,   150] train loss: 1.889\n",
            "[14,   150] train acc: 0.611\n",
            "[14,   200] train loss: 1.993\n",
            "[14,   200] train acc: 0.617\n",
            "val Loss: 1.9384158796072006, acc: 0.6184\n",
            "******************************\n",
            "Epoch 15/20\n",
            "******************************\n",
            "[15,   250] train loss: 0.264\n",
            "[15,   250] train acc: 0.907\n",
            "[15,   500] train loss: 0.292\n",
            "[15,   500] train acc: 0.892\n",
            "[15,   750] train loss: 0.303\n",
            "[15,   750] train acc: 0.891\n",
            "[15,  1000] train loss: 0.323\n",
            "[15,  1000] train acc: 0.886\n",
            "train Loss: 0.29541150147467854, acc: 0.89374\n",
            "[15,    50] train loss: 2.003\n",
            "[15,    50] train acc: 0.614\n",
            "[15,   100] train loss: 1.927\n",
            "[15,   100] train acc: 0.624\n",
            "[15,   150] train loss: 2.088\n",
            "[15,   150] train acc: 0.605\n",
            "[15,   200] train loss: 1.902\n",
            "[15,   200] train acc: 0.633\n",
            "val Loss: 1.9798093900084495, acc: 0.6192\n",
            "******************************\n",
            "Epoch 16/20\n",
            "******************************\n",
            "[16,   250] train loss: 0.262\n",
            "[16,   250] train acc: 0.909\n",
            "[16,   500] train loss: 0.280\n",
            "[16,   500] train acc: 0.897\n",
            "[16,   750] train loss: 0.297\n",
            "[16,   750] train acc: 0.891\n",
            "[16,  1000] train loss: 0.318\n",
            "[16,  1000] train acc: 0.889\n",
            "train Loss: 0.2892644276060164, acc: 0.89668\n",
            "[16,    50] train loss: 1.974\n",
            "[16,    50] train acc: 0.621\n",
            "[16,   100] train loss: 2.070\n",
            "[16,   100] train acc: 0.606\n",
            "[16,   150] train loss: 1.834\n",
            "[16,   150] train acc: 0.624\n",
            "[16,   200] train loss: 2.005\n",
            "[16,   200] train acc: 0.603\n",
            "val Loss: 1.9707318824529647, acc: 0.6136\n",
            "******************************\n",
            "Epoch 17/20\n",
            "******************************\n",
            "[17,   250] train loss: 0.236\n",
            "[17,   250] train acc: 0.916\n",
            "[17,   500] train loss: 0.263\n",
            "[17,   500] train acc: 0.904\n",
            "[17,   750] train loss: 0.283\n",
            "[17,   750] train acc: 0.895\n",
            "[17,  1000] train loss: 0.322\n",
            "[17,  1000] train acc: 0.882\n",
            "train Loss: 0.27589727979898454, acc: 0.89936\n",
            "[17,    50] train loss: 1.922\n",
            "[17,    50] train acc: 0.619\n",
            "[17,   100] train loss: 1.952\n",
            "[17,   100] train acc: 0.603\n",
            "[17,   150] train loss: 1.991\n",
            "[17,   150] train acc: 0.627\n",
            "[17,   200] train loss: 2.003\n",
            "[17,   200] train acc: 0.612\n",
            "val Loss: 1.9670824271440506, acc: 0.6154\n",
            "******************************\n",
            "Epoch 18/20\n",
            "******************************\n",
            "[18,   250] train loss: 0.247\n",
            "[18,   250] train acc: 0.913\n",
            "[18,   500] train loss: 0.248\n",
            "[18,   500] train acc: 0.912\n",
            "[18,   750] train loss: 0.277\n",
            "[18,   750] train acc: 0.898\n",
            "[18,  1000] train loss: 0.306\n",
            "[18,  1000] train acc: 0.890\n",
            "train Loss: 0.2695239863619208, acc: 0.90338\n",
            "[18,    50] train loss: 2.120\n",
            "[18,    50] train acc: 0.607\n",
            "[18,   100] train loss: 1.924\n",
            "[18,   100] train acc: 0.625\n",
            "[18,   150] train loss: 2.028\n",
            "[18,   150] train acc: 0.610\n",
            "[18,   200] train loss: 2.129\n",
            "[18,   200] train acc: 0.604\n",
            "val Loss: 2.0501104101538656, acc: 0.6115\n",
            "******************************\n",
            "Epoch 19/20\n",
            "******************************\n",
            "[19,   250] train loss: 0.245\n",
            "[19,   250] train acc: 0.911\n",
            "[19,   500] train loss: 0.254\n",
            "[19,   500] train acc: 0.910\n",
            "[19,   750] train loss: 0.288\n",
            "[19,   750] train acc: 0.894\n",
            "[19,  1000] train loss: 0.305\n",
            "[19,  1000] train acc: 0.888\n",
            "train Loss: 0.2728093275129795, acc: 0.90094\n",
            "[19,    50] train loss: 2.033\n",
            "[19,    50] train acc: 0.613\n",
            "[19,   100] train loss: 2.042\n",
            "[19,   100] train acc: 0.609\n",
            "[19,   150] train loss: 2.067\n",
            "[19,   150] train acc: 0.607\n",
            "[19,   200] train loss: 2.056\n",
            "[19,   200] train acc: 0.629\n",
            "val Loss: 2.0495339286327363, acc: 0.6145\n",
            "******************************\n",
            "Epoch 20/20\n",
            "******************************\n",
            "[20,   250] train loss: 0.227\n",
            "[20,   250] train acc: 0.921\n",
            "[20,   500] train loss: 0.248\n",
            "[20,   500] train acc: 0.910\n",
            "[20,   750] train loss: 0.267\n",
            "[20,   750] train acc: 0.903\n",
            "[20,  1000] train loss: 0.305\n",
            "[20,  1000] train acc: 0.888\n",
            "train Loss: 0.26192658983543515, acc: 0.90532\n",
            "[20,    50] train loss: 1.987\n",
            "[20,    50] train acc: 0.626\n",
            "[20,   100] train loss: 2.098\n",
            "[20,   100] train acc: 0.599\n",
            "[20,   150] train loss: 2.078\n",
            "[20,   150] train acc: 0.604\n",
            "[20,   200] train loss: 2.056\n",
            "[20,   200] train acc: 0.605\n",
            "val Loss: 2.054712406992912, acc: 0.6083\n",
            "******************************\n",
            "best_acc is 0.6339\n",
            "trainning finished\n"
          ],
          "name": "stdout"
        }
      ]
    },
    {
      "cell_type": "code",
      "metadata": {
        "id": "TehDHpeaocC5"
      },
      "source": [
        "def train(epoch, train_dataloader):\r\n",
        "\r\n",
        "  for i in range(epoch):\r\n",
        "    total_loss = 0\r\n",
        "    for index, input_data in enumerate(train_dataloader, 0):\r\n",
        "      # get the images and speed up by cuda\r\n",
        "      input_imgs, input_labels = input_data\r\n",
        "      input_imgs, input_labels = input_imgs.to(device), input_labels.to(device)\r\n",
        "      # set the gradients all to zero\r\n",
        "      opt.zero_grad()\r\n",
        "\r\n",
        "      # forwar & backward & optimization\r\n",
        "      # now I am not very sure about the functions of optimazation\r\n",
        "      outputs = lenet5_net(input_imgs)\r\n",
        "      loss = loss_fun(outputs, input_labels)\r\n",
        "      loss.backward()\r\n",
        "      opt.step()\r\n",
        "\r\n",
        "      total_loss += loss.item()  # transfer a tensor with one element to a number\r\n",
        "      if index % 200 == 199:\r\n",
        "        print('[%d, %5d] loss: %.3f' %\r\n",
        "                  (i + 1, index + 1, total_loss / 2000))\r\n",
        "        total_loss = 0\r\n",
        "               \r\n",
        "  print(\"trainning finished\")"
      ],
      "execution_count": null,
      "outputs": []
    },
    {
      "cell_type": "code",
      "metadata": {
        "id": "eeRqpNmH0yNa"
      },
      "source": [
        "train(epoch=epoch, train_dataloader = train_dataloader)"
      ],
      "execution_count": null,
      "outputs": []
    },
    {
      "cell_type": "markdown",
      "metadata": {
        "id": "l5JwzZjS8CM0"
      },
      "source": [
        "### save the trained model"
      ]
    },
    {
      "cell_type": "code",
      "metadata": {
        "id": "zAhfXiIb8Cos"
      },
      "source": [
        "model_path = \"./lenet5_model.pth\"\r\n",
        "torch.save(lenet5_net.state_dict(),model_path)"
      ],
      "execution_count": null,
      "outputs": []
    },
    {
      "cell_type": "markdown",
      "metadata": {
        "id": "P-dxthgs78eB"
      },
      "source": [
        "### The next part is to validate the accuracy of this model.\r\n"
      ]
    },
    {
      "cell_type": "code",
      "metadata": {
        "id": "IQ8Cd3aE7_Lt"
      },
      "source": [
        "def validation(test_dataloader, model_path):\r\n",
        "\r\n",
        "  correct_num = 0\r\n",
        "  total_num = 0\r\n",
        "  net = Net()\r\n",
        "  net = net.to(device)\r\n",
        "  net.load_state_dict(torch.load(model_path))\r\n",
        "  for index, test_data in enumerate(test_dataloader, 0):\r\n",
        "\r\n",
        "    # get the images and speed up by cuda\r\n",
        "    test_imgs, test_labels = test_data\r\n",
        "    test_imgs, test_labels = test_imgs.to(device), test_labels.to(device)\r\n",
        "\r\n",
        "    # forward\r\n",
        "    outputs = net(test_imgs)\r\n",
        "    \r\n",
        "    correct_num += (torch.max(outputs,1).indices == test_labels).sum().item()\r\n",
        "    total_num += list(test_labels.shape)[0]\r\n",
        "\r\n",
        "    accuracy = (correct_num / total_num) * 100\r\n",
        "  print(f\"the accuracy in test_data is {accuracy}%\")\r\n"
      ],
      "execution_count": null,
      "outputs": []
    },
    {
      "cell_type": "code",
      "metadata": {
        "colab": {
          "base_uri": "https://localhost:8080/"
        },
        "id": "lSZ8knh6-lTn",
        "outputId": "80ac89c6-2547-4a53-bfda-85944a344de9"
      },
      "source": [
        "validation(test_dataloader, model_path)"
      ],
      "execution_count": null,
      "outputs": [
        {
          "output_type": "stream",
          "text": [
            "the accuracy in test_data is 64.66%\n"
          ],
          "name": "stdout"
        }
      ]
    },
    {
      "cell_type": "markdown",
      "metadata": {
        "id": "xHIPEFyOGhsy"
      },
      "source": [
        "### The classification process using lenet5 based on CIFAR10 has been completed, and then I want to explore the visualable problem during training."
      ]
    },
    {
      "cell_type": "code",
      "metadata": {
        "id": "0ilht6QxHONQ"
      },
      "source": [
        "from tensorboardX import SummaryWriter\r\n",
        "writer = SummaryWriter('./Result')   # 数据存放在这个文件夹\r\n",
        "loss = 10   # 第0层\r\n",
        "for i, (name, param) in enumerate(lenet5_net.named_parameters()):\r\n",
        "    if 'bn' not in name:\r\n",
        "        writer.add_histogram(name, param, 0)\r\n",
        "        writer.add_scalar('loss', loss, i)\r\n",
        "        loss = loss*0.5"
      ],
      "execution_count": null,
      "outputs": []
    },
    {
      "cell_type": "markdown",
      "metadata": {
        "id": "nz0_XD6iBv1X"
      },
      "source": [
        "### Connect the google drive and colab. Therefore, I can save the data to the Google drive."
      ]
    },
    {
      "cell_type": "code",
      "metadata": {
        "id": "nOdfVwX7_1Ld"
      },
      "source": [
        "import os\r\n",
        "from google.colab import drive\r\n",
        "drive.mount('/content/drive')\r\n",
        "path = \"/content/drive/My Drive\"\r\n",
        "os.chdir(path)\r\n",
        "os.listdir(path)"
      ],
      "execution_count": null,
      "outputs": []
    },
    {
      "cell_type": "markdown",
      "metadata": {
        "id": "6gr3HZiiDPUX"
      },
      "source": [
        "### Visualable tools"
      ]
    },
    {
      "cell_type": "code",
      "metadata": {
        "id": "UGcTrp8y_2Cs"
      },
      "source": [
        " # 导出网络结构图\r\n",
        " import hiddenlayer as hl\r\n",
        " vis_graph = h.build_graph(lenet5_net, torch.zeros([1, 3, 32, 32]).to(device))   # 获取绘制图像的对象\r\n",
        " vis_graph.theme = h.graph.THEMES[\"blue\"].copy()     # 指定主题颜色\r\n",
        " vis_graph.save(path+\"/demo1.png\")   # 保存图像的路径"
      ],
      "execution_count": null,
      "outputs": []
    },
    {
      "cell_type": "markdown",
      "metadata": {
        "id": "uNxzsSq0MlVY"
      },
      "source": [
        "### This function is modified to have the ability to show the loss and accuracy curves"
      ]
    },
    {
      "cell_type": "code",
      "metadata": {
        "id": "LLUnYTw9FSIJ"
      },
      "source": [
        "import time\r\n",
        "import hiddenlayer as hl\r\n",
        "\r\n",
        "# I am trying to add the calculation of accuracy into the code\r\n",
        "### I think the loss function in the train_process function has a few mistakes\r\n",
        "def train_process(model, epoch, loss_fun, optimizer, train_dataloader,test_dataloader):\r\n",
        "  \r\n",
        "  history_train = hl.History()\r\n",
        "  canvas_train = hl.Canvas()\r\n",
        "  history_test = hl.History()\r\n",
        "  canvas_test = hl.Canvas()\r\n",
        "\r\n",
        "  best_acc = 0.0\r\n",
        "  steps_test = 0\r\n",
        "  steps_train = 0\r\n",
        "  for i in range(epoch):\r\n",
        "\r\n",
        "    print('Epoch {}/{}'.format(i+1, epoch))\r\n",
        "    print(\"*\" * 30)\r\n",
        "    # there are two phases in train processes\r\n",
        "    for modes in [\"train\",\"val\"]:\r\n",
        "      running_loss = 0\r\n",
        "      temp_loss = 0\r\n",
        "      temp_correction = 0\r\n",
        "      running_correction = 0\r\n",
        "      if modes is \"train\":\r\n",
        "        model.train() \r\n",
        "        for index, input_data in enumerate(train_dataloader, 0):\r\n",
        "          # get the images and speed up by cuda\r\n",
        "          imgs, labels = input_data\r\n",
        "          imgs, labels = imgs.to(device), labels.to(device)\r\n",
        "          # set the gradients all to zero\r\n",
        "          opt.zero_grad() \r\n",
        "\r\n",
        "          with torch.set_grad_enabled(modes == \"train\"):\r\n",
        "            # forwar & backward & optimization\r\n",
        "            outputs = model(imgs)\r\n",
        "            loss = loss_fun(outputs, labels)\r\n",
        "            loss.backward()\r\n",
        "            opt.step()\r\n",
        "          running_loss += loss.item()  # transfer a tensor with one element to a number\r\n",
        "          temp_loss += loss.item()\r\n",
        "          running_correction += (torch.max(outputs,1).indices == labels).sum().item()\r\n",
        "          temp_correction += (torch.max(outputs,1).indices == labels).sum().item()\r\n",
        "          epoch_loss = running_loss / len(train_dataloader)\r\n",
        "          epoch_acc = float(running_correction) / len(dataset_cifar10_train)\r\n",
        "          steps_train = (index + 1) + len(train_dataloader) * i\r\n",
        "          if steps_train % 250 == 0:\r\n",
        "            # print('[%d, %5d] train loss: %.3f' % (i + 1, index + 1, temp_loss / 250))\r\n",
        "            # print('[%d, %5d] train acc: %.3f' % (i + 1, index + 1, temp_correction / (250*batch_size)))\r\n",
        "            # history_train.log(steps_train,loss = temp_loss / 250, accuracy=temp_correction / (250*batch_size))\r\n",
        "            # canvas_train.draw_plot([history_train[\"loss\"], history_train[\"accuracy\"]])   \r\n",
        "            # time.sleep(0.1)\r\n",
        "            temp_loss = 0\r\n",
        "            temp_correction = 0\r\n",
        "          # print(f\"{modes} Loss: {epoch_loss}, acc: {epoch_acc}\")\r\n",
        "\r\n",
        "      elif modes is \"val\":\r\n",
        "        model.eval()\r\n",
        "        for index, test_data in enumerate(test_dataloader, 0):\r\n",
        "          # get the images and speed up by cuda\r\n",
        "          imgs, labels = test_data\r\n",
        "          imgs, labels = imgs.to(device), labels.to(device) \r\n",
        "          # set the gradients all to zero\r\n",
        "          opt.zero_grad() \r\n",
        "          with torch.set_grad_enabled(modes == \"train\"):\r\n",
        "            # forward \r\n",
        "            outputs = model(imgs)\r\n",
        "            loss = loss_fun(outputs, labels)\r\n",
        "          running_loss += loss.item()  # transfer a tensor with one element to a number\r\n",
        "          temp_loss += loss.item()  # transfer a tensor with one element to a number\r\n",
        "          running_correction += (torch.max(outputs,1).indices == labels).sum().item()\r\n",
        "          temp_correction += (torch.max(outputs,1).indices == labels).sum().item()\r\n",
        "          epoch_loss = running_loss / len(test_dataloader)\r\n",
        "          epoch_acc = float(running_correction) / len(dataset_cifar10_test)\r\n",
        "          steps_test = (index + 1) + len(test_dataloader) * i\r\n",
        "          if steps_test % 50 == 0:\r\n",
        "            print('[%d, %5d] train loss: %.3f' % (i + 1, index + 1, temp_loss / 50))\r\n",
        "            print('[%d, %5d] train acc: %.3f' % (i + 1, index + 1, temp_correction / (50*batch_size)))\r\n",
        "            history_test.log(steps_test, loss = temp_loss / 50, accuracy=temp_correction / (50*batch_size))\r\n",
        "            canvas_test.draw_plot([history_test[\"loss\"], history_test[\"accuracy\"]])\r\n",
        "            time.sleep(0.1)\r\n",
        "            temp_loss = 0\r\n",
        "            temp_correction = 0\r\n",
        "\r\n",
        "          #print(f\"{modes} Loss: {epoch_loss}, acc: {epoch_acc}\")\r\n",
        "          if epoch_acc > best_acc:\r\n",
        "            best_acc = epoch_acc\r\n",
        "\r\n",
        "      if modes is \"train\":\r\n",
        "        print(f\"{modes} Loss: {epoch_loss}, acc: {epoch_acc}\")\r\n",
        "      elif modes is \"val\":\r\n",
        "        print(f\"{modes} Loss: {epoch_loss}, acc: {epoch_acc}\")\r\n",
        "\r\n",
        "    print(\"*\"*30)\r\n",
        "\r\n",
        "  print(f\"best_acc is {best_acc}\")          \r\n",
        "  print(\"trainning finished\")"
      ],
      "execution_count": null,
      "outputs": []
    },
    {
      "cell_type": "code",
      "metadata": {
        "colab": {
          "base_uri": "https://localhost:8080/",
          "height": 368
        },
        "id": "djAhJcIDJKlS",
        "outputId": "211bfdd9-8b79-4b1e-fa6d-c8bd959e1d3e"
      },
      "source": [
        "train_process(model = lenet5_net, epoch=4, loss_fun=loss_fun, optimizer = opt, train_dataloader = train_dataloader,test_dataloader=test_dataloader)"
      ],
      "execution_count": null,
      "outputs": [
        {
          "output_type": "display_data",
          "data": {
            "image/png": "[encoded data removed]",
            "text/plain": [
              "<Figure size 864x288 with 1 Axes>"
            ]
          },
          "metadata": {
            "tags": [],
            "needs_background": "light"
          }
        },
        {
          "output_type": "stream",
          "text": [
            "val Loss: 2.7154924923181536, acc: 0.6033\n",
            "******************************\n",
            "best_acc is 0.6133\n",
            "trainning finished\n"
          ],
          "name": "stdout"
        }
      ]
    }
  ]
}